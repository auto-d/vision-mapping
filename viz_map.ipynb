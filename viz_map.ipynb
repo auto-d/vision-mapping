{
 "cells": [
  {
   "cell_type": "markdown",
   "id": "9777458e",
   "metadata": {},
   "source": [
    "# Vision Mapping\n",
    "\n",
    "!TODO\n",
    "- test ViT implementation in colab\n",
    "    - dinov3 m\n",
    "- select image dataset and explanation \n",
    "- find gradcam library (torchcam?) - ensure compatibility with VIT \n",
    "- load and make predictions with pretrained model \n",
    "- apply gradcam to ViT\n",
    "- update link\n",
    "- profit \n",
    "\n",
    "[![Open In Collab](https://colab.research.google.com/assets/colab-badge.svg)](update_me)"
   ]
  },
  {
   "cell_type": "code",
   "execution_count": 2,
   "id": "be19ead4",
   "metadata": {},
   "outputs": [
    {
     "name": "stdout",
     "output_type": "stream",
     "text": [
      "Requirement already satisfied: torch in ./venv/lib/python3.13/site-packages (2.8.0)\n",
      "Collecting torchvision\n",
      "  Downloading torchvision-0.23.0-cp313-cp313-macosx_11_0_arm64.whl.metadata (6.1 kB)\n",
      "Requirement already satisfied: pandas in ./venv/lib/python3.13/site-packages (2.3.3)\n",
      "Requirement already satisfied: filelock in ./venv/lib/python3.13/site-packages (from torch) (3.19.1)\n",
      "Requirement already satisfied: typing-extensions>=4.10.0 in ./venv/lib/python3.13/site-packages (from torch) (4.15.0)\n",
      "Requirement already satisfied: setuptools in ./venv/lib/python3.13/site-packages (from torch) (80.9.0)\n",
      "Requirement already satisfied: sympy>=1.13.3 in ./venv/lib/python3.13/site-packages (from torch) (1.14.0)\n",
      "Requirement already satisfied: networkx in ./venv/lib/python3.13/site-packages (from torch) (3.5)\n",
      "Requirement already satisfied: jinja2 in ./venv/lib/python3.13/site-packages (from torch) (3.1.6)\n",
      "Requirement already satisfied: fsspec in ./venv/lib/python3.13/site-packages (from torch) (2025.9.0)\n",
      "Requirement already satisfied: numpy in ./venv/lib/python3.13/site-packages (from torchvision) (2.3.3)\n",
      "Collecting pillow!=8.3.*,>=5.3.0 (from torchvision)\n",
      "  Using cached pillow-11.3.0-cp313-cp313-macosx_11_0_arm64.whl.metadata (9.0 kB)\n",
      "Requirement already satisfied: python-dateutil>=2.8.2 in ./venv/lib/python3.13/site-packages (from pandas) (2.9.0.post0)\n",
      "Requirement already satisfied: pytz>=2020.1 in ./venv/lib/python3.13/site-packages (from pandas) (2025.2)\n",
      "Requirement already satisfied: tzdata>=2022.7 in ./venv/lib/python3.13/site-packages (from pandas) (2025.2)\n",
      "Requirement already satisfied: six>=1.5 in ./venv/lib/python3.13/site-packages (from python-dateutil>=2.8.2->pandas) (1.17.0)\n",
      "Requirement already satisfied: mpmath<1.4,>=1.1.0 in ./venv/lib/python3.13/site-packages (from sympy>=1.13.3->torch) (1.3.0)\n",
      "Requirement already satisfied: MarkupSafe>=2.0 in ./venv/lib/python3.13/site-packages (from jinja2->torch) (3.0.3)\n",
      "Downloading torchvision-0.23.0-cp313-cp313-macosx_11_0_arm64.whl (1.9 MB)\n",
      "\u001b[2K   \u001b[90m━━━━━━━━━━━━━━━━━━━━━━━━━━━━━━━━━━━━━━━━\u001b[0m \u001b[32m1.9/1.9 MB\u001b[0m \u001b[31m41.6 MB/s\u001b[0m  \u001b[33m0:00:00\u001b[0m\n",
      "\u001b[?25hUsing cached pillow-11.3.0-cp313-cp313-macosx_11_0_arm64.whl (4.7 MB)\n",
      "Installing collected packages: pillow, torchvision\n",
      "\u001b[2K   \u001b[90m━━━━━━━━━━━━━━━━━━━━━━━━━━━━━━━━━━━━━━━━\u001b[0m \u001b[32m2/2\u001b[0m [torchvision]\u001b[0m [torchvision]\n",
      "\u001b[1A\u001b[2KSuccessfully installed pillow-11.3.0 torchvision-0.23.0\n",
      "Note: you may need to restart the kernel to use updated packages.\n"
     ]
    }
   ],
   "source": [
    "pip install torch torchvision pandas"
   ]
  },
  {
   "cell_type": "code",
   "execution_count": 11,
   "id": "6d8f23f1",
   "metadata": {},
   "outputs": [
    {
     "name": "stdout",
     "output_type": "stream",
     "text": [
      "backbones.py   depthers.py    dinotxt.py     utils.py\n",
      "classifiers.py detectors.py   segmentors.py\n"
     ]
    }
   ],
   "source": [
    "!ls ../dinov3/dinov3/hub"
   ]
  },
  {
   "cell_type": "code",
   "execution_count": 5,
   "id": "2f25793f",
   "metadata": {},
   "outputs": [],
   "source": [
    "import sys\n",
    "sys.path.append(\"../dinov3\")"
   ]
  },
  {
   "cell_type": "code",
   "execution_count": 13,
   "id": "25541f8b",
   "metadata": {},
   "outputs": [],
   "source": [
    "sys.path.insert(0, \"../dinov3\")"
   ]
  },
  {
   "cell_type": "code",
   "execution_count": 14,
   "id": "50b5b360",
   "metadata": {},
   "outputs": [
    {
     "ename": "ModuleNotFoundError",
     "evalue": "No module named 'dinov3.hub'",
     "output_type": "error",
     "traceback": [
      "\u001b[31m---------------------------------------------------------------------------\u001b[39m",
      "\u001b[31mModuleNotFoundError\u001b[39m                       Traceback (most recent call last)",
      "\u001b[36mCell\u001b[39m\u001b[36m \u001b[39m\u001b[32mIn[14]\u001b[39m\u001b[32m, line 1\u001b[39m\n\u001b[32m----> \u001b[39m\u001b[32m1\u001b[39m \u001b[38;5;28;01mfrom\u001b[39;00m\u001b[38;5;250m \u001b[39m\u001b[34;01mdinov3\u001b[39;00m\u001b[34;01m.\u001b[39;00m\u001b[34;01mhub\u001b[39;00m\u001b[34;01m.\u001b[39;00m\u001b[34;01mdinotxt\u001b[39;00m\u001b[38;5;250m \u001b[39m\u001b[38;5;28;01mimport\u001b[39;00m dinov3_vitl16_dinotxt_tet1280d20h24l\n",
      "\u001b[31mModuleNotFoundError\u001b[39m: No module named 'dinov3.hub'"
     ]
    }
   ],
   "source": [
    "from dinov3.hub.dinotxt import dinov3_vitl16_dinotxt_tet1280d20h24l"
   ]
  },
  {
   "cell_type": "code",
   "execution_count": null,
   "id": "0ecdab42",
   "metadata": {},
   "outputs": [],
   "source": []
  },
  {
   "cell_type": "markdown",
   "id": "07755f11",
   "metadata": {},
   "source": [
    "\t\n",
    "You’re all set to start building with DINOv3!\n",
    "\n",
    "The models listed below are now available to you under the DINOv3 License. By downloading a model, you are agreeing to the terms and conditions of the license and Meta’s privacy policy.\n",
    "\n",
    "DINOv3 ViT LVD-1689M\n",
    "\n",
    "dinov3_vits16_pretrain_lvd1689m-08c60483.pth\n",
    "\n",
    "https://dinov3.llamameta.net/dinov3_vits16/dinov3_vits16_pretrain_lvd1689m-08c60483.pth?Policy=eyJTdGF0ZW1lbnQiOlt7InVuaXF1ZV9oYXNoIjoidjZ1dnF1N2xtOGxrMHIzMXZnd2t2cmZmIiwiUmVzb3VyY2UiOiJodHRwczpcL1wvZGlub3YzLmxsYW1hbWV0YS5uZXRcLyoiLCJDb25kaXRpb24iOnsiRGF0ZUxlc3NUaGFuIjp7IkFXUzpFcG9jaFRpbWUiOjE3NTk4Mzc2NDd9fX1dfQ__&Signature=qZAn6kO25XPYNsMCVEmHSt9hkADOm80vRJdqLKA09eNBcEXicYGkbHaYgmD2SPIzvelcSV4PpIb9OZg1WNq8QCgykTu1LiHJq3sdUGWEpWNYHYRYkKyl6fyACNOtVaQK%7EYniuFvWECB4CVOJrT0FT%7Eee5i6bl4VaQPkwZcnYyranryOiKxm0bMe8y9ncGJHXa82lyJcdidOTk6vE7JRIwbgnMIpAZw6zHjmphirSD3nAbfvItKZfX8dVuecWmj3St%7EhQFLWRCkencU176yuTsKRIUgXjC13AQ-jaT1-M0nG2eaIUw5vDFaIz-5nXeyPpWYoOkkYMYThSySIWn5JWdA__&Key-Pair-Id=K15QRJLYKIFSLZ&Download-Request-ID=1826303031621931\n",
    "\n",
    "dinov3_vits16plus_pretrain_lvd1689m-4057cbaa.pth\n",
    "\n",
    "https://dinov3.llamameta.net/dinov3_vits16plus/dinov3_vits16plus_pretrain_lvd1689m-4057cbaa.pth?Policy=eyJTdGF0ZW1lbnQiOlt7InVuaXF1ZV9oYXNoIjoidjZ1dnF1N2xtOGxrMHIzMXZnd2t2cmZmIiwiUmVzb3VyY2UiOiJodHRwczpcL1wvZGlub3YzLmxsYW1hbWV0YS5uZXRcLyoiLCJDb25kaXRpb24iOnsiRGF0ZUxlc3NUaGFuIjp7IkFXUzpFcG9jaFRpbWUiOjE3NTk4Mzc2NDd9fX1dfQ__&Signature=qZAn6kO25XPYNsMCVEmHSt9hkADOm80vRJdqLKA09eNBcEXicYGkbHaYgmD2SPIzvelcSV4PpIb9OZg1WNq8QCgykTu1LiHJq3sdUGWEpWNYHYRYkKyl6fyACNOtVaQK%7EYniuFvWECB4CVOJrT0FT%7Eee5i6bl4VaQPkwZcnYyranryOiKxm0bMe8y9ncGJHXa82lyJcdidOTk6vE7JRIwbgnMIpAZw6zHjmphirSD3nAbfvItKZfX8dVuecWmj3St%7EhQFLWRCkencU176yuTsKRIUgXjC13AQ-jaT1-M0nG2eaIUw5vDFaIz-5nXeyPpWYoOkkYMYThSySIWn5JWdA__&Key-Pair-Id=K15QRJLYKIFSLZ&Download-Request-ID=1826303031621931\n",
    "\n",
    "dinov3_vitb16_pretrain_lvd1689m-73cec8be.pth\n",
    "\n",
    "https://dinov3.llamameta.net/dinov3_vitb16/dinov3_vitb16_pretrain_lvd1689m-73cec8be.pth?Policy=eyJTdGF0ZW1lbnQiOlt7InVuaXF1ZV9oYXNoIjoidjZ1dnF1N2xtOGxrMHIzMXZnd2t2cmZmIiwiUmVzb3VyY2UiOiJodHRwczpcL1wvZGlub3YzLmxsYW1hbWV0YS5uZXRcLyoiLCJDb25kaXRpb24iOnsiRGF0ZUxlc3NUaGFuIjp7IkFXUzpFcG9jaFRpbWUiOjE3NTk4Mzc2NDd9fX1dfQ__&Signature=qZAn6kO25XPYNsMCVEmHSt9hkADOm80vRJdqLKA09eNBcEXicYGkbHaYgmD2SPIzvelcSV4PpIb9OZg1WNq8QCgykTu1LiHJq3sdUGWEpWNYHYRYkKyl6fyACNOtVaQK%7EYniuFvWECB4CVOJrT0FT%7Eee5i6bl4VaQPkwZcnYyranryOiKxm0bMe8y9ncGJHXa82lyJcdidOTk6vE7JRIwbgnMIpAZw6zHjmphirSD3nAbfvItKZfX8dVuecWmj3St%7EhQFLWRCkencU176yuTsKRIUgXjC13AQ-jaT1-M0nG2eaIUw5vDFaIz-5nXeyPpWYoOkkYMYThSySIWn5JWdA__&Key-Pair-Id=K15QRJLYKIFSLZ&Download-Request-ID=1826303031621931\n",
    "\n",
    "dinov3_vitl16_pretrain_lvd1689m-8aa4cbdd.pth\n",
    "\n",
    "https://dinov3.llamameta.net/dinov3_vitl16/dinov3_vitl16_pretrain_lvd1689m-8aa4cbdd.pth?Policy=eyJTdGF0ZW1lbnQiOlt7InVuaXF1ZV9oYXNoIjoidjZ1dnF1N2xtOGxrMHIzMXZnd2t2cmZmIiwiUmVzb3VyY2UiOiJodHRwczpcL1wvZGlub3YzLmxsYW1hbWV0YS5uZXRcLyoiLCJDb25kaXRpb24iOnsiRGF0ZUxlc3NUaGFuIjp7IkFXUzpFcG9jaFRpbWUiOjE3NTk4Mzc2NDd9fX1dfQ__&Signature=qZAn6kO25XPYNsMCVEmHSt9hkADOm80vRJdqLKA09eNBcEXicYGkbHaYgmD2SPIzvelcSV4PpIb9OZg1WNq8QCgykTu1LiHJq3sdUGWEpWNYHYRYkKyl6fyACNOtVaQK%7EYniuFvWECB4CVOJrT0FT%7Eee5i6bl4VaQPkwZcnYyranryOiKxm0bMe8y9ncGJHXa82lyJcdidOTk6vE7JRIwbgnMIpAZw6zHjmphirSD3nAbfvItKZfX8dVuecWmj3St%7EhQFLWRCkencU176yuTsKRIUgXjC13AQ-jaT1-M0nG2eaIUw5vDFaIz-5nXeyPpWYoOkkYMYThSySIWn5JWdA__&Key-Pair-Id=K15QRJLYKIFSLZ&Download-Request-ID=1826303031621931\n",
    "\n",
    "dinov3_vith16plus_pretrain_lvd1689m-7c1da9a5.pth\n",
    "\n",
    "https://dinov3.llamameta.net/dinov3_vith16plus/dinov3_vith16plus_pretrain_lvd1689m-7c1da9a5.pth?Policy=eyJTdGF0ZW1lbnQiOlt7InVuaXF1ZV9oYXNoIjoidjZ1dnF1N2xtOGxrMHIzMXZnd2t2cmZmIiwiUmVzb3VyY2UiOiJodHRwczpcL1wvZGlub3YzLmxsYW1hbWV0YS5uZXRcLyoiLCJDb25kaXRpb24iOnsiRGF0ZUxlc3NUaGFuIjp7IkFXUzpFcG9jaFRpbWUiOjE3NTk4Mzc2NDd9fX1dfQ__&Signature=qZAn6kO25XPYNsMCVEmHSt9hkADOm80vRJdqLKA09eNBcEXicYGkbHaYgmD2SPIzvelcSV4PpIb9OZg1WNq8QCgykTu1LiHJq3sdUGWEpWNYHYRYkKyl6fyACNOtVaQK%7EYniuFvWECB4CVOJrT0FT%7Eee5i6bl4VaQPkwZcnYyranryOiKxm0bMe8y9ncGJHXa82lyJcdidOTk6vE7JRIwbgnMIpAZw6zHjmphirSD3nAbfvItKZfX8dVuecWmj3St%7EhQFLWRCkencU176yuTsKRIUgXjC13AQ-jaT1-M0nG2eaIUw5vDFaIz-5nXeyPpWYoOkkYMYThSySIWn5JWdA__&Key-Pair-Id=K15QRJLYKIFSLZ&Download-Request-ID=1826303031621931\n",
    "\n",
    "dinov3_vit7b16_pretrain_lvd1689m-a955f4ea.pth\n",
    "\n",
    "https://dinov3.llamameta.net/dinov3_vit7b16/dinov3_vit7b16_pretrain_lvd1689m-a955f4ea.pth?Policy=eyJTdGF0ZW1lbnQiOlt7InVuaXF1ZV9oYXNoIjoidjZ1dnF1N2xtOGxrMHIzMXZnd2t2cmZmIiwiUmVzb3VyY2UiOiJodHRwczpcL1wvZGlub3YzLmxsYW1hbWV0YS5uZXRcLyoiLCJDb25kaXRpb24iOnsiRGF0ZUxlc3NUaGFuIjp7IkFXUzpFcG9jaFRpbWUiOjE3NTk4Mzc2NDd9fX1dfQ__&Signature=qZAn6kO25XPYNsMCVEmHSt9hkADOm80vRJdqLKA09eNBcEXicYGkbHaYgmD2SPIzvelcSV4PpIb9OZg1WNq8QCgykTu1LiHJq3sdUGWEpWNYHYRYkKyl6fyACNOtVaQK%7EYniuFvWECB4CVOJrT0FT%7Eee5i6bl4VaQPkwZcnYyranryOiKxm0bMe8y9ncGJHXa82lyJcdidOTk6vE7JRIwbgnMIpAZw6zHjmphirSD3nAbfvItKZfX8dVuecWmj3St%7EhQFLWRCkencU176yuTsKRIUgXjC13AQ-jaT1-M0nG2eaIUw5vDFaIz-5nXeyPpWYoOkkYMYThSySIWn5JWdA__&Key-Pair-Id=K15QRJLYKIFSLZ&Download-Request-ID=1826303031621931\n",
    "\n",
    "\n",
    "DINOv3 ViT SAT-493M\n",
    "\n",
    "dinov3_vitl16_pretrain_sat493m-eadcf0ff.pth\n",
    "\n",
    "https://dinov3.llamameta.net/dinov3_vitl16/dinov3_vitl16_pretrain_sat493m-eadcf0ff.pth?Policy=eyJTdGF0ZW1lbnQiOlt7InVuaXF1ZV9oYXNoIjoidjZ1dnF1N2xtOGxrMHIzMXZnd2t2cmZmIiwiUmVzb3VyY2UiOiJodHRwczpcL1wvZGlub3YzLmxsYW1hbWV0YS5uZXRcLyoiLCJDb25kaXRpb24iOnsiRGF0ZUxlc3NUaGFuIjp7IkFXUzpFcG9jaFRpbWUiOjE3NTk4Mzc2NDd9fX1dfQ__&Signature=qZAn6kO25XPYNsMCVEmHSt9hkADOm80vRJdqLKA09eNBcEXicYGkbHaYgmD2SPIzvelcSV4PpIb9OZg1WNq8QCgykTu1LiHJq3sdUGWEpWNYHYRYkKyl6fyACNOtVaQK%7EYniuFvWECB4CVOJrT0FT%7Eee5i6bl4VaQPkwZcnYyranryOiKxm0bMe8y9ncGJHXa82lyJcdidOTk6vE7JRIwbgnMIpAZw6zHjmphirSD3nAbfvItKZfX8dVuecWmj3St%7EhQFLWRCkencU176yuTsKRIUgXjC13AQ-jaT1-M0nG2eaIUw5vDFaIz-5nXeyPpWYoOkkYMYThSySIWn5JWdA__&Key-Pair-Id=K15QRJLYKIFSLZ&Download-Request-ID=1826303031621931\n",
    "\n",
    "dinov3_vit7b16_pretrain_sat493m-a6675841.pth\n",
    "\n",
    "https://dinov3.llamameta.net/dinov3_vit7b16/dinov3_vit7b16_pretrain_sat493m-a6675841.pth?Policy=eyJTdGF0ZW1lbnQiOlt7InVuaXF1ZV9oYXNoIjoidjZ1dnF1N2xtOGxrMHIzMXZnd2t2cmZmIiwiUmVzb3VyY2UiOiJodHRwczpcL1wvZGlub3YzLmxsYW1hbWV0YS5uZXRcLyoiLCJDb25kaXRpb24iOnsiRGF0ZUxlc3NUaGFuIjp7IkFXUzpFcG9jaFRpbWUiOjE3NTk4Mzc2NDd9fX1dfQ__&Signature=qZAn6kO25XPYNsMCVEmHSt9hkADOm80vRJdqLKA09eNBcEXicYGkbHaYgmD2SPIzvelcSV4PpIb9OZg1WNq8QCgykTu1LiHJq3sdUGWEpWNYHYRYkKyl6fyACNOtVaQK%7EYniuFvWECB4CVOJrT0FT%7Eee5i6bl4VaQPkwZcnYyranryOiKxm0bMe8y9ncGJHXa82lyJcdidOTk6vE7JRIwbgnMIpAZw6zHjmphirSD3nAbfvItKZfX8dVuecWmj3St%7EhQFLWRCkencU176yuTsKRIUgXjC13AQ-jaT1-M0nG2eaIUw5vDFaIz-5nXeyPpWYoOkkYMYThSySIWn5JWdA__&Key-Pair-Id=K15QRJLYKIFSLZ&Download-Request-ID=1826303031621931\n",
    "\n",
    "\n",
    "DINOv3 ConvNeXT LVD-1689M\n",
    "\n",
    "dinov3_convnext_tiny_pretrain_lvd1689m-21b726bb.pth\n",
    "\n",
    "https://dinov3.llamameta.net/dinov3_convnext_tiny/dinov3_convnext_tiny_pretrain_lvd1689m-21b726bb.pth?Policy=eyJTdGF0ZW1lbnQiOlt7InVuaXF1ZV9oYXNoIjoidjZ1dnF1N2xtOGxrMHIzMXZnd2t2cmZmIiwiUmVzb3VyY2UiOiJodHRwczpcL1wvZGlub3YzLmxsYW1hbWV0YS5uZXRcLyoiLCJDb25kaXRpb24iOnsiRGF0ZUxlc3NUaGFuIjp7IkFXUzpFcG9jaFRpbWUiOjE3NTk4Mzc2NDd9fX1dfQ__&Signature=qZAn6kO25XPYNsMCVEmHSt9hkADOm80vRJdqLKA09eNBcEXicYGkbHaYgmD2SPIzvelcSV4PpIb9OZg1WNq8QCgykTu1LiHJq3sdUGWEpWNYHYRYkKyl6fyACNOtVaQK%7EYniuFvWECB4CVOJrT0FT%7Eee5i6bl4VaQPkwZcnYyranryOiKxm0bMe8y9ncGJHXa82lyJcdidOTk6vE7JRIwbgnMIpAZw6zHjmphirSD3nAbfvItKZfX8dVuecWmj3St%7EhQFLWRCkencU176yuTsKRIUgXjC13AQ-jaT1-M0nG2eaIUw5vDFaIz-5nXeyPpWYoOkkYMYThSySIWn5JWdA__&Key-Pair-Id=K15QRJLYKIFSLZ&Download-Request-ID=1826303031621931\n",
    "\n",
    "dinov3_convnext_small_pretrain_lvd1689m-296db49d.pth\n",
    "\n",
    "https://dinov3.llamameta.net/dinov3_convnext_small/dinov3_convnext_small_pretrain_lvd1689m-296db49d.pth?Policy=eyJTdGF0ZW1lbnQiOlt7InVuaXF1ZV9oYXNoIjoidjZ1dnF1N2xtOGxrMHIzMXZnd2t2cmZmIiwiUmVzb3VyY2UiOiJodHRwczpcL1wvZGlub3YzLmxsYW1hbWV0YS5uZXRcLyoiLCJDb25kaXRpb24iOnsiRGF0ZUxlc3NUaGFuIjp7IkFXUzpFcG9jaFRpbWUiOjE3NTk4Mzc2NDd9fX1dfQ__&Signature=qZAn6kO25XPYNsMCVEmHSt9hkADOm80vRJdqLKA09eNBcEXicYGkbHaYgmD2SPIzvelcSV4PpIb9OZg1WNq8QCgykTu1LiHJq3sdUGWEpWNYHYRYkKyl6fyACNOtVaQK%7EYniuFvWECB4CVOJrT0FT%7Eee5i6bl4VaQPkwZcnYyranryOiKxm0bMe8y9ncGJHXa82lyJcdidOTk6vE7JRIwbgnMIpAZw6zHjmphirSD3nAbfvItKZfX8dVuecWmj3St%7EhQFLWRCkencU176yuTsKRIUgXjC13AQ-jaT1-M0nG2eaIUw5vDFaIz-5nXeyPpWYoOkkYMYThSySIWn5JWdA__&Key-Pair-Id=K15QRJLYKIFSLZ&Download-Request-ID=1826303031621931\n",
    "\n",
    "dinov3_convnext_base_pretrain_lvd1689m-801f2ba9.pth\n",
    "\n",
    "https://dinov3.llamameta.net/dinov3_convnext_base/dinov3_convnext_base_pretrain_lvd1689m-801f2ba9.pth?Policy=eyJTdGF0ZW1lbnQiOlt7InVuaXF1ZV9oYXNoIjoidjZ1dnF1N2xtOGxrMHIzMXZnd2t2cmZmIiwiUmVzb3VyY2UiOiJodHRwczpcL1wvZGlub3YzLmxsYW1hbWV0YS5uZXRcLyoiLCJDb25kaXRpb24iOnsiRGF0ZUxlc3NUaGFuIjp7IkFXUzpFcG9jaFRpbWUiOjE3NTk4Mzc2NDd9fX1dfQ__&Signature=qZAn6kO25XPYNsMCVEmHSt9hkADOm80vRJdqLKA09eNBcEXicYGkbHaYgmD2SPIzvelcSV4PpIb9OZg1WNq8QCgykTu1LiHJq3sdUGWEpWNYHYRYkKyl6fyACNOtVaQK%7EYniuFvWECB4CVOJrT0FT%7Eee5i6bl4VaQPkwZcnYyranryOiKxm0bMe8y9ncGJHXa82lyJcdidOTk6vE7JRIwbgnMIpAZw6zHjmphirSD3nAbfvItKZfX8dVuecWmj3St%7EhQFLWRCkencU176yuTsKRIUgXjC13AQ-jaT1-M0nG2eaIUw5vDFaIz-5nXeyPpWYoOkkYMYThSySIWn5JWdA__&Key-Pair-Id=K15QRJLYKIFSLZ&Download-Request-ID=1826303031621931\n",
    "\n",
    "dinov3_convnext_large_pretrain_lvd1689m-61fa432d.pth\n",
    "\n",
    "https://dinov3.llamameta.net/dinov3_convnext_large/dinov3_convnext_large_pretrain_lvd1689m-61fa432d.pth?Policy=eyJTdGF0ZW1lbnQiOlt7InVuaXF1ZV9oYXNoIjoidjZ1dnF1N2xtOGxrMHIzMXZnd2t2cmZmIiwiUmVzb3VyY2UiOiJodHRwczpcL1wvZGlub3YzLmxsYW1hbWV0YS5uZXRcLyoiLCJDb25kaXRpb24iOnsiRGF0ZUxlc3NUaGFuIjp7IkFXUzpFcG9jaFRpbWUiOjE3NTk4Mzc2NDd9fX1dfQ__&Signature=qZAn6kO25XPYNsMCVEmHSt9hkADOm80vRJdqLKA09eNBcEXicYGkbHaYgmD2SPIzvelcSV4PpIb9OZg1WNq8QCgykTu1LiHJq3sdUGWEpWNYHYRYkKyl6fyACNOtVaQK%7EYniuFvWECB4CVOJrT0FT%7Eee5i6bl4VaQPkwZcnYyranryOiKxm0bMe8y9ncGJHXa82lyJcdidOTk6vE7JRIwbgnMIpAZw6zHjmphirSD3nAbfvItKZfX8dVuecWmj3St%7EhQFLWRCkencU176yuTsKRIUgXjC13AQ-jaT1-M0nG2eaIUw5vDFaIz-5nXeyPpWYoOkkYMYThSySIWn5JWdA__&Key-Pair-Id=K15QRJLYKIFSLZ&Download-Request-ID=1826303031621931\n",
    "\n",
    "\n",
    "DINOv3 Adapters\n",
    "\n",
    "dinov3_vit7b16_imagenet1k_linear_head-90d8ed92.pth\n",
    "https://dinov3.llamameta.net/dinov3_vit7b16/dinov3_vit7b16_imagenet1k_linear_head-90d8ed92.pth?Policy=eyJTdGF0ZW1lbnQiOlt7InVuaXF1ZV9oYXNoIjoidjZ1dnF1N2xtOGxrMHIzMXZnd2t2cmZmIiwiUmVzb3VyY2UiOiJodHRwczpcL1wvZGlub3YzLmxsYW1hbWV0YS5uZXRcLyoiLCJDb25kaXRpb24iOnsiRGF0ZUxlc3NUaGFuIjp7IkFXUzpFcG9jaFRpbWUiOjE3NTk4Mzc2NDd9fX1dfQ__&Signature=qZAn6kO25XPYNsMCVEmHSt9hkADOm80vRJdqLKA09eNBcEXicYGkbHaYgmD2SPIzvelcSV4PpIb9OZg1WNq8QCgykTu1LiHJq3sdUGWEpWNYHYRYkKyl6fyACNOtVaQK%7EYniuFvWECB4CVOJrT0FT%7Eee5i6bl4VaQPkwZcnYyranryOiKxm0bMe8y9ncGJHXa82lyJcdidOTk6vE7JRIwbgnMIpAZw6zHjmphirSD3nAbfvItKZfX8dVuecWmj3St%7EhQFLWRCkencU176yuTsKRIUgXjC13AQ-jaT1-M0nG2eaIUw5vDFaIz-5nXeyPpWYoOkkYMYThSySIWn5JWdA__&Key-Pair-Id=K15QRJLYKIFSLZ&Download-Request-ID=1826303031621931\n",
    "\n",
    "dinov3_vit7b16_coco_detr_head-b0235ff7.pth\n",
    "\n",
    "https://dinov3.llamameta.net/dinov3_vit7b16/dinov3_vit7b16_coco_detr_head-b0235ff7.pth?Policy=eyJTdGF0ZW1lbnQiOlt7InVuaXF1ZV9oYXNoIjoidjZ1dnF1N2xtOGxrMHIzMXZnd2t2cmZmIiwiUmVzb3VyY2UiOiJodHRwczpcL1wvZGlub3YzLmxsYW1hbWV0YS5uZXRcLyoiLCJDb25kaXRpb24iOnsiRGF0ZUxlc3NUaGFuIjp7IkFXUzpFcG9jaFRpbWUiOjE3NTk4Mzc2NDd9fX1dfQ__&Signature=qZAn6kO25XPYNsMCVEmHSt9hkADOm80vRJdqLKA09eNBcEXicYGkbHaYgmD2SPIzvelcSV4PpIb9OZg1WNq8QCgykTu1LiHJq3sdUGWEpWNYHYRYkKyl6fyACNOtVaQK%7EYniuFvWECB4CVOJrT0FT%7Eee5i6bl4VaQPkwZcnYyranryOiKxm0bMe8y9ncGJHXa82lyJcdidOTk6vE7JRIwbgnMIpAZw6zHjmphirSD3nAbfvItKZfX8dVuecWmj3St%7EhQFLWRCkencU176yuTsKRIUgXjC13AQ-jaT1-M0nG2eaIUw5vDFaIz-5nXeyPpWYoOkkYMYThSySIWn5JWdA__&Key-Pair-Id=K15QRJLYKIFSLZ&Download-Request-ID=1826303031621931\n",
    "\n",
    "dinov3_vit7b16_ade20k_m2f_head-bf307cb1.pth\n",
    "\n",
    "https://dinov3.llamameta.net/dinov3_vit7b16/dinov3_vit7b16_ade20k_m2f_head-bf307cb1.pth?Policy=eyJTdGF0ZW1lbnQiOlt7InVuaXF1ZV9oYXNoIjoidjZ1dnF1N2xtOGxrMHIzMXZnd2t2cmZmIiwiUmVzb3VyY2UiOiJodHRwczpcL1wvZGlub3YzLmxsYW1hbWV0YS5uZXRcLyoiLCJDb25kaXRpb24iOnsiRGF0ZUxlc3NUaGFuIjp7IkFXUzpFcG9jaFRpbWUiOjE3NTk4Mzc2NDd9fX1dfQ__&Signature=qZAn6kO25XPYNsMCVEmHSt9hkADOm80vRJdqLKA09eNBcEXicYGkbHaYgmD2SPIzvelcSV4PpIb9OZg1WNq8QCgykTu1LiHJq3sdUGWEpWNYHYRYkKyl6fyACNOtVaQK%7EYniuFvWECB4CVOJrT0FT%7Eee5i6bl4VaQPkwZcnYyranryOiKxm0bMe8y9ncGJHXa82lyJcdidOTk6vE7JRIwbgnMIpAZw6zHjmphirSD3nAbfvItKZfX8dVuecWmj3St%7EhQFLWRCkencU176yuTsKRIUgXjC13AQ-jaT1-M0nG2eaIUw5vDFaIz-5nXeyPpWYoOkkYMYThSySIWn5JWdA__&Key-Pair-Id=K15QRJLYKIFSLZ&Download-Request-ID=1826303031621931\n",
    "\n",
    "dinov3_vit7b16_synthmix_dpt_head-02040be1.pth\n",
    "\n",
    "https://dinov3.llamameta.net/dinov3_vit7b16/dinov3_vit7b16_synthmix_dpt_head-02040be1.pth?Policy=eyJTdGF0ZW1lbnQiOlt7InVuaXF1ZV9oYXNoIjoidjZ1dnF1N2xtOGxrMHIzMXZnd2t2cmZmIiwiUmVzb3VyY2UiOiJodHRwczpcL1wvZGlub3YzLmxsYW1hbWV0YS5uZXRcLyoiLCJDb25kaXRpb24iOnsiRGF0ZUxlc3NUaGFuIjp7IkFXUzpFcG9jaFRpbWUiOjE3NTk4Mzc2NDd9fX1dfQ__&Signature=qZAn6kO25XPYNsMCVEmHSt9hkADOm80vRJdqLKA09eNBcEXicYGkbHaYgmD2SPIzvelcSV4PpIb9OZg1WNq8QCgykTu1LiHJq3sdUGWEpWNYHYRYkKyl6fyACNOtVaQK%7EYniuFvWECB4CVOJrT0FT%7Eee5i6bl4VaQPkwZcnYyranryOiKxm0bMe8y9ncGJHXa82lyJcdidOTk6vE7JRIwbgnMIpAZw6zHjmphirSD3nAbfvItKZfX8dVuecWmj3St%7EhQFLWRCkencU176yuTsKRIUgXjC13AQ-jaT1-M0nG2eaIUw5vDFaIz-5nXeyPpWYoOkkYMYThSySIWn5JWdA__&Key-Pair-Id=K15QRJLYKIFSLZ&Download-Request-ID=1826303031621931\n",
    "\n",
    "dinov3_vitl16_dinotxt_vision_head_and_text_encoder-a442d8f5.pth\n",
    "\n",
    "https://dinov3.llamameta.net/dinov3_vitl16/dinov3_vitl16_dinotxt_vision_head_and_text_encoder-a442d8f5.pth?Policy=eyJTdGF0ZW1lbnQiOlt7InVuaXF1ZV9oYXNoIjoidjZ1dnF1N2xtOGxrMHIzMXZnd2t2cmZmIiwiUmVzb3VyY2UiOiJodHRwczpcL1wvZGlub3YzLmxsYW1hbWV0YS5uZXRcLyoiLCJDb25kaXRpb24iOnsiRGF0ZUxlc3NUaGFuIjp7IkFXUzpFcG9jaFRpbWUiOjE3NTk4Mzc2NDd9fX1dfQ__&Signature=qZAn6kO25XPYNsMCVEmHSt9hkADOm80vRJdqLKA09eNBcEXicYGkbHaYgmD2SPIzvelcSV4PpIb9OZg1WNq8QCgykTu1LiHJq3sdUGWEpWNYHYRYkKyl6fyACNOtVaQK%7EYniuFvWECB4CVOJrT0FT%7Eee5i6bl4VaQPkwZcnYyranryOiKxm0bMe8y9ncGJHXa82lyJcdidOTk6vE7JRIwbgnMIpAZw6zHjmphirSD3nAbfvItKZfX8dVuecWmj3St%7EhQFLWRCkencU176yuTsKRIUgXjC13AQ-jaT1-M0nG2eaIUw5vDFaIz-5nXeyPpWYoOkkYMYThSySIWn5JWdA__&Key-Pair-Id=K15QRJLYKIFSLZ&Download-Request-ID=1826303031621931\n",
    "\n",
    "\n",
    "Here’s everything you need to get started and dive deeper into DINOv3. Explore, try, and connect with the community:\n",
    "\n",
    "DINOv3 Paper\n",
    "\n",
    "WRI Blog."
   ]
  },
  {
   "cell_type": "code",
   "execution_count": null,
   "id": "79cdca83",
   "metadata": {},
   "outputs": [],
   "source": []
  }
 ],
 "metadata": {
  "kernelspec": {
   "display_name": "venv",
   "language": "python",
   "name": "python3"
  },
  "language_info": {
   "codemirror_mode": {
    "name": "ipython",
    "version": 3
   },
   "file_extension": ".py",
   "mimetype": "text/x-python",
   "name": "python",
   "nbconvert_exporter": "python",
   "pygments_lexer": "ipython3",
   "version": "3.13.7"
  }
 },
 "nbformat": 4,
 "nbformat_minor": 5
}
